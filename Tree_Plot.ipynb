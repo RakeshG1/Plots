{
 "cells": [
  {
   "cell_type": "markdown",
   "metadata": {},
   "source": [
    "#### `Import Libraries`"
   ]
  },
  {
   "cell_type": "code",
   "execution_count": 17,
   "metadata": {},
   "outputs": [],
   "source": [
    "import os\n",
    "import matplotlib.pyplot as plt\n",
    "import seaborn as sn\n",
    "from treelib import Node, Tree\n",
    "\n",
    "%matplotlib inline"
   ]
  },
  {
   "cell_type": "code",
   "execution_count": 18,
   "metadata": {},
   "outputs": [],
   "source": [
    "# !pip install treelib"
   ]
  },
  {
   "cell_type": "markdown",
   "metadata": {},
   "source": [
    "#### `Creating Data Tree`"
   ]
  },
  {
   "cell_type": "code",
   "execution_count": 9,
   "metadata": {},
   "outputs": [
    {
     "name": "stdout",
     "output_type": "stream",
     "text": [
      "Forest\n",
      "├── BananaTree\n",
      "└── MangoTree\n",
      "    ├── Mango1\n",
      "    └── Mango1\n",
      "\n"
     ]
    }
   ],
   "source": [
    "tree = Tree()\n",
    "\n",
    "tree.create_node(\"Forest\", \"forest\")  # No parent means its the root node\n",
    "tree.create_node(\"BananaTree\", \"bananatree\", parent=\"forest\")\n",
    "tree.create_node(\"MangoTree\", \"mangotree\", parent=\"forest\")\n",
    "tree.create_node(\"Mango1\", \"mango1\", parent=\"mangotree\")\n",
    "tree.create_node(\"Mango1\", \"mango2\", parent=\"mangotree\")\n",
    "\n",
    "tree.show()\n",
    "# tree.show(line_type='ascii')"
   ]
  },
  {
   "cell_type": "markdown",
   "metadata": {},
   "source": [
    "#### `save2file`\n",
    "- Saving Tree details to .txt file"
   ]
  },
  {
   "cell_type": "code",
   "execution_count": 12,
   "metadata": {},
   "outputs": [
    {
     "data": {
      "text/plain": [
       "'/Users/rock/Git_Repo/Plots/Images'"
      ]
     },
     "execution_count": 12,
     "metadata": {},
     "output_type": "execute_result"
    }
   ],
   "source": [
    "tree.save2file(os.getcwd()+\"/Images/Example_Tree.txt\")"
   ]
  },
  {
   "cell_type": "markdown",
   "metadata": {},
   "source": [
    "#### `to_graphviz`"
   ]
  },
  {
   "cell_type": "code",
   "execution_count": 14,
   "metadata": {},
   "outputs": [
    {
     "name": "stdout",
     "output_type": "stream",
     "text": [
      "digraph tree {\n",
      "\t\"forest\" [label=\"Forest\", shape=circle]\n",
      "\t\"bananatree\" [label=\"BananaTree\", shape=circle]\n",
      "\t\"mangotree\" [label=\"MangoTree\", shape=circle]\n",
      "\t\"mango1\" [label=\"Mango1\", shape=circle]\n",
      "\t\"mango2\" [label=\"Mango1\", shape=circle]\n",
      "\n",
      "\t\"forest\" -> \"bananatree\"\n",
      "\t\"forest\" -> \"mangotree\"\n",
      "\t\"mangotree\" -> \"mango1\"\n",
      "\t\"mangotree\" -> \"mango2\"\n",
      "}\n"
     ]
    }
   ],
   "source": [
    "tree.to_graphviz()"
   ]
  }
 ],
 "metadata": {
  "interpreter": {
   "hash": "40d3a090f54c6569ab1632332b64b2c03c39dcf918b08424e98f38b5ae0af88f"
  },
  "kernelspec": {
   "display_name": "Python 3.7.4 64-bit ('base': conda)",
   "name": "python3"
  },
  "language_info": {
   "codemirror_mode": {
    "name": "ipython",
    "version": 3
   },
   "file_extension": ".py",
   "mimetype": "text/x-python",
   "name": "python",
   "nbconvert_exporter": "python",
   "pygments_lexer": "ipython3",
   "version": "3.7.4"
  },
  "orig_nbformat": 4
 },
 "nbformat": 4,
 "nbformat_minor": 2
}
