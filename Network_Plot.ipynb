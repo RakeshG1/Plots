{
 "cells": [
  {
   "cell_type": "markdown",
   "metadata": {},
   "source": [
    "#### `Import Libraries`"
   ]
  },
  {
   "cell_type": "code",
   "execution_count": 8,
   "metadata": {},
   "outputs": [],
   "source": [
    "import sys\n",
    "import  matplotlib.pyplot  as  plt \n",
    "import  networkx  as  nx \n",
    "import warnings\n",
    "# from  platform  import  PYTHON_VERSION  as  pythonversion \n",
    "from  matplotlib  import  __version__  as  matplotlibversion \n",
    "from  networkx  import  __version__  as  networkxversion \n",
    "\n",
    "warnings.filterwarnings(\"ignore\")"
   ]
  },
  {
   "cell_type": "code",
   "execution_count": 9,
   "metadata": {},
   "outputs": [],
   "source": [
    "# !pip install networkx[default]\n",
    "# !pip install networkx"
   ]
  },
  {
   "cell_type": "code",
   "execution_count": 10,
   "metadata": {},
   "outputs": [
    {
     "name": "stdout",
     "output_type": "stream",
     "text": [
      "Python Version : 3.7.4 (default, Aug 13 2019, 15:17:50) \n",
      "[Clang 4.0.1 (tags/RELEASE_401/final)]\n",
      "Matplotlib Version : 3.1.1\n",
      "Networkx Version : 2.3\n"
     ]
    }
   ],
   "source": [
    "# print ('python : ' + python version ()) \n",
    "print('Python Version : ' + sys.version)\n",
    "print ('Matplotlib Version : ' + matplotlibversion) \n",
    "print ('Networkx Version : ' + networkxversion)"
   ]
  },
  {
   "cell_type": "markdown",
   "metadata": {},
   "source": [
    "#### `Network Plot with - Networkx & Matplotlib`"
   ]
  },
  {
   "cell_type": "markdown",
   "metadata": {},
   "source": [
    "- **Required Functions**"
   ]
  },
  {
   "cell_type": "code",
   "execution_count": 11,
   "metadata": {},
   "outputs": [],
   "source": [
    "def plot_network(graph):\n",
    "    '''\n",
    "    This function plot Network graph based on given data. I.e., Given graph info -> plot\n",
    "    '''  \n",
    "    plt.figure(figsize = (6, 4))\n",
    "    nx.draw_networkx (graph, with_labels = True ) \n",
    "    plt.tick_params(axis = 'x' ,  which = 'both' ,  bottom = False ,  top = False ,  labelbottom = False) \n",
    "    plt.tick_params(axis = 'y' ,  which = 'both' ,  right = False ,  left =False ,  labelleft = False) \n",
    "    for  pos  in  [ 'right' , 'top' , 'bottom' , 'left' ]: \n",
    "        plt.gca().spines[ pos ].set_visible(False)\n",
    "    plt.show ()"
   ]
  },
  {
   "cell_type": "markdown",
   "metadata": {},
   "source": [
    "- **Example 1**"
   ]
  },
  {
   "cell_type": "code",
   "execution_count": 12,
   "metadata": {},
   "outputs": [
    {
     "data": {
      "image/png": "[encoded data removed]",
      "text/plain": [
       "<Figure size 432x288 with 1 Axes>"
      ]
     },
     "metadata": {},
     "output_type": "display_data"
    }
   ],
   "source": [
    "##### Define Graph #####\n",
    "# G = nx.digraph()\n",
    "G = nx.Graph()\n",
    "G.add_path([1,5]) \n",
    "G.add_path([2,0])\n",
    "# G\n",
    "\n",
    "##### Plot Network Graph #####\n",
    "plot_network(G)"
   ]
  },
  {
   "cell_type": "markdown",
   "metadata": {},
   "source": [
    "- **Example 2**"
   ]
  },
  {
   "cell_type": "code",
   "execution_count": 13,
   "metadata": {},
   "outputs": [
    {
     "data": {
      "image/png": "[encoded data removed]",
      "text/plain": [
       "<Figure size 432x288 with 1 Axes>"
      ]
     },
     "metadata": {},
     "output_type": "display_data"
    }
   ],
   "source": [
    "##### Define Graph #####\n",
    "# G = nx.digraph()\n",
    "G = nx.Graph()\n",
    "G.add_path([5,1,0]) \n",
    "G.add_path([2,1,5])\n",
    "# G\n",
    "\n",
    "##### Plot Network Graph #####\n",
    "plot_network(G)\n"
   ]
  }
 ],
 "metadata": {
  "interpreter": {
   "hash": "40d3a090f54c6569ab1632332b64b2c03c39dcf918b08424e98f38b5ae0af88f"
  },
  "kernelspec": {
   "display_name": "Python 3.7.4 64-bit ('base': conda)",
   "name": "python3"
  },
  "language_info": {
   "codemirror_mode": {
    "name": "ipython",
    "version": 3
   },
   "file_extension": ".py",
   "mimetype": "text/x-python",
   "name": "python",
   "nbconvert_exporter": "python",
   "pygments_lexer": "ipython3",
   "version": "3.7.4"
  },
  "orig_nbformat": 4
 },
 "nbformat": 4,
 "nbformat_minor": 2
}
